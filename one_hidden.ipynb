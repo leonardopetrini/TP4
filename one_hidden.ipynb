{
 "cells": [
  {
   "cell_type": "code",
   "execution_count": 1,
   "metadata": {},
   "outputs": [],
   "source": [
    "import numpy as np\n",
    "import matplotlib.pyplot as plt\n",
    "import torch\n",
    "from torch import nn\n",
    "from torch.nn import functional as F\n",
    "from mpl_toolkits.mplot3d import Axes3D\n",
    "from torch.autograd import Variable\n",
    "from sklearn.metrics import mutual_info_score"
   ]
  },
  {
   "cell_type": "code",
   "execution_count": 2,
   "metadata": {},
   "outputs": [],
   "source": [
    "'Define neural network'\n",
    "\n",
    "class Net(nn.Module):\n",
    "    def __init__(self, nb_hidden):\n",
    "        super(Net, self).__init__()\n",
    "        self.fc1 = nn.Linear(10, nb_hidden)\n",
    "        self.fc2 = nn.Linear(nb_hidden,1)\n",
    "        \n",
    "    def forward(self, x):\n",
    "        t = F.sigmoid(self.fc1(x))\n",
    "        y = F.sigmoid(self.fc2(t))\n",
    "        return t, y"
   ]
  },
  {
   "cell_type": "code",
   "execution_count": 3,
   "metadata": {},
   "outputs": [],
   "source": [
    "'Change to n-spherical coordinates'\n",
    "\n",
    "def rand_n_sphere(r, alpha):\n",
    "    \"\"\"alpha: the n-1 values between [0,\\pi) and last one between [0,2\\pi)\n",
    "    \"\"\"\n",
    "    x = np.zeros(len(alpha) + 1)\n",
    "    s = 1\n",
    "    for e, a in enumerate(alpha):\n",
    "        x[e] = s * np.cos(a)\n",
    "        s *= np.sin(a)\n",
    "    x[len(alpha)] = s\n",
    "    return x*r"
   ]
  },
  {
   "cell_type": "code",
   "execution_count": 7,
   "metadata": {},
   "outputs": [],
   "source": [
    "'Initialize x_s randomly on n-sphere'\n",
    "\n",
    "n = 10                #Input dimension\n",
    "input_size = 5000     #Number of samples (test + train)\n",
    "\n",
    "x = np.zeros((input_size, n))\n",
    "y = np.zeros((input_size,))\n",
    "\n",
    "for i in range(input_size):\n",
    "    alpha = np.random.rand(n - 1) * np.pi\n",
    "    alpha[-1] = 2* alpha[-1]\n",
    "\n",
    "    x[i,:] = rand_n_sphere(1, alpha)\n",
    "    \n",
    "#    if x[i,0] > 0 and x[i,1] < 0.5 and x[i,1] > -0.2 or x[i,2] < -0.4:\n",
    "#        y[i] = 1            \n",
    "    \n",
    "#y = np.random.randint(1, size = input_size) + 1\n"
   ]
  },
  {
   "cell_type": "code",
   "execution_count": 100,
   "metadata": {},
   "outputs": [
    {
     "ename": "TypeError",
     "evalue": "dot received an invalid combination of arguments - got (\u001b[31;1mnumpy.ndarray\u001b[0m), but expected (torch.FloatTensor tensor)",
     "output_type": "error",
     "traceback": [
      "\u001b[0;31m---------------------------------------------------------------------------\u001b[0m",
      "\u001b[0;31mTypeError\u001b[0m                                 Traceback (most recent call last)",
      "\u001b[0;32m<ipython-input-100-a9a462332e3d>\u001b[0m in \u001b[0;36m<module>\u001b[0;34m()\u001b[0m\n\u001b[1;32m     10\u001b[0m     \u001b[0;32mreturn\u001b[0m \u001b[0msigmoid\u001b[0m\u001b[0;34m(\u001b[0m\u001b[0mx\u001b[0m\u001b[0;34m.\u001b[0m\u001b[0mdot\u001b[0m\u001b[0;34m(\u001b[0m\u001b[0mW\u001b[0m\u001b[0;34m)\u001b[0m \u001b[0;34m+\u001b[0m \u001b[0mb\u001b[0m\u001b[0;34m)\u001b[0m\u001b[0;34m\u001b[0m\u001b[0m\n\u001b[1;32m     11\u001b[0m \u001b[0;34m\u001b[0m\u001b[0m\n\u001b[0;32m---> 12\u001b[0;31m \u001b[0my\u001b[0m \u001b[0;34m=\u001b[0m \u001b[0mrandom_perceptron\u001b[0m\u001b[0;34m(\u001b[0m\u001b[0mx\u001b[0m\u001b[0;34m)\u001b[0m\u001b[0;34m\u001b[0m\u001b[0m\n\u001b[0m\u001b[1;32m     13\u001b[0m \u001b[0;34m\u001b[0m\u001b[0m\n\u001b[1;32m     14\u001b[0m \u001b[0;34m'Visualize first 3 dimensions of x, y is the color'\u001b[0m\u001b[0;34m\u001b[0m\u001b[0m\n",
      "\u001b[0;32m<ipython-input-100-a9a462332e3d>\u001b[0m in \u001b[0;36mrandom_perceptron\u001b[0;34m(x)\u001b[0m\n\u001b[1;32m      8\u001b[0m     \u001b[0mb\u001b[0m \u001b[0;34m=\u001b[0m \u001b[0mnp\u001b[0m\u001b[0;34m.\u001b[0m\u001b[0mrandom\u001b[0m\u001b[0;34m.\u001b[0m\u001b[0mrand\u001b[0m\u001b[0;34m(\u001b[0m\u001b[0;36m1\u001b[0m\u001b[0;34m)\u001b[0m\u001b[0;34m\u001b[0m\u001b[0m\n\u001b[1;32m      9\u001b[0m \u001b[0;34m\u001b[0m\u001b[0m\n\u001b[0;32m---> 10\u001b[0;31m     \u001b[0;32mreturn\u001b[0m \u001b[0msigmoid\u001b[0m\u001b[0;34m(\u001b[0m\u001b[0mx\u001b[0m\u001b[0;34m.\u001b[0m\u001b[0mdot\u001b[0m\u001b[0;34m(\u001b[0m\u001b[0mW\u001b[0m\u001b[0;34m)\u001b[0m \u001b[0;34m+\u001b[0m \u001b[0mb\u001b[0m\u001b[0;34m)\u001b[0m\u001b[0;34m\u001b[0m\u001b[0m\n\u001b[0m\u001b[1;32m     11\u001b[0m \u001b[0;34m\u001b[0m\u001b[0m\n\u001b[1;32m     12\u001b[0m \u001b[0my\u001b[0m \u001b[0;34m=\u001b[0m \u001b[0mrandom_perceptron\u001b[0m\u001b[0;34m(\u001b[0m\u001b[0mx\u001b[0m\u001b[0;34m)\u001b[0m\u001b[0;34m\u001b[0m\u001b[0m\n",
      "\u001b[0;31mTypeError\u001b[0m: dot received an invalid combination of arguments - got (\u001b[31;1mnumpy.ndarray\u001b[0m), but expected (torch.FloatTensor tensor)"
     ]
    }
   ],
   "source": [
    "'Perceptron classification, i.e. create y vector'\n",
    "\n",
    "def sigmoid(x):\n",
    "    return 1/(1 + np.exp(x))\n",
    "\n",
    "def random_perceptron(x):\n",
    "    W = np.random.rand(n, 1)\n",
    "    b = np.random.rand(1)\n",
    "\n",
    "    return sigmoid(x.dot(W) + b)\n",
    "\n",
    "y = random_perceptron(x)\n",
    "\n",
    "'Visualize first 3 dimensions of x, y is the color'\n",
    "\n",
    "fig = plt.figure(2)\n",
    "ax = fig.add_subplot(111, projection='3d')\n",
    "ax.scatter(x[:,0], x[:,1], x[:,2], c = [(float(i),float(i)*0.3,0.5) for i in y])\n"
   ]
  },
  {
   "cell_type": "code",
   "execution_count": 37,
   "metadata": {},
   "outputs": [],
   "source": [
    "'Convert numpy to torch tensors'\n",
    "x = torch.from_numpy(x)\n",
    "y = torch.from_numpy(y)\n",
    "x,y = x.type(torch.FloatTensor),y.type(torch.FloatTensor)"
   ]
  },
  {
   "cell_type": "code",
   "execution_count": 93,
   "metadata": {},
   "outputs": [],
   "source": [
    "'Given histogram matrix (num of hidden layers) x (num bins)'\n",
    "'gives mutual information as sum on of the entropy of each unit in hidden layer'\n",
    "\n",
    "def mutual_info(hist, nb_units):\n",
    "    MI = 0\n",
    "    for i in range(nb_units):\n",
    "        p = hist[i,:] / np.sum(np.sum(hist[i,:])) + 1e-8 # add sth small to avoid Nan in log\n",
    "        MI -= np.sum(np.multiply(p, np.log(p)))\n",
    "        \n",
    "    return MI\n",
    "\n",
    "def plot_hist(hist, nb_bins, nb_units):\n",
    "    for i in range(nb_units):\n",
    "        plt.figure(i)\n",
    "        plt.title(str(i))\n",
    "        plt.bar(range(nb_bins), hist[i,:])"
   ]
  },
  {
   "cell_type": "code",
   "execution_count": 97,
   "metadata": {},
   "outputs": [
    {
     "name": "stdout",
     "output_type": "stream",
     "text": [
      "0 0.5843410221859813\n",
      "1 0.5653466526418924\n",
      "2 0.5566060291603208\n",
      "3 0.5480946712195873\n",
      "4 0.5395619673654437\n",
      "5 0.5309836836531758\n",
      "6 0.5223433803766966\n",
      "7 0.5136270606890321\n",
      "8 0.5048230206593871\n",
      "9 0.49592186976224184\n",
      "10 0.4869163716211915\n",
      "11 0.4778015725314617\n",
      "12 0.4685748890042305\n",
      "13 0.45923591684550047\n",
      "14 0.44978642649948597\n",
      "15 0.4402304831892252\n",
      "16 0.4305743360891938\n",
      "17 0.4208262450993061\n",
      "18 0.41099654417485\n",
      "19 0.40109748393297195\n",
      "20 0.39114309567958117\n",
      "21 0.3811490274965763\n",
      "22 0.3711322918534279\n",
      "23 0.3611112767830491\n",
      "24 0.351105242036283\n",
      "25 0.3411341803148389\n",
      "26 0.33121875673532486\n",
      "27 0.3213797090575099\n",
      "28 0.3116377554833889\n",
      "29 0.3020133157260716\n",
      "30 0.2925262078642845\n",
      "31 0.28319542622193694\n",
      "32 0.2740389686077833\n",
      "33 0.26507346192374825\n",
      "34 0.25631403317674994\n",
      "35 0.2477742936462164\n",
      "36 0.23946616239845753\n",
      "37 0.23139969259500504\n",
      "38 0.223583091981709\n",
      "39 0.2160228006541729\n",
      "40 0.20872323773801327\n",
      "41 0.20168722281232476\n",
      "42 0.19491578452289104\n",
      "43 0.18840833706781268\n",
      "44 0.18216284178197384\n",
      "45 0.17617587745189667\n",
      "46 0.1704428056254983\n",
      "47 0.16495790285989642\n",
      "48 0.15971455909311771\n",
      "49 0.15470534889027476\n"
     ]
    }
   ],
   "source": [
    "'Training'\n",
    "\n",
    "train_input, train_target = Variable(x[:int(input_size*0.7), :]), Variable(y[:int(input_size*0.7)])\n",
    "\n",
    "nb_hidden = 15\n",
    "nb_bins = 20      #Bins for mutual information estimation\n",
    "nb_epochs = 50\n",
    "\n",
    "\n",
    "model, criterion = Net(nb_hidden), nn.MSELoss()\n",
    "eta, mini_batch_size = 1e-1, 100\n",
    "\n",
    "MI_hidden = np.zeros((nb_epochs,))\n",
    "MI_output = np.zeros((nb_epochs,))\n",
    "\n",
    "for e in range(0, nb_epochs):\n",
    "    sum_loss = 0\n",
    "    hist_hidden = np.zeros((nb_hidden, nb_bins)) #create histogram to store occurrance of each hidden node value in each bin\n",
    "    hist_output = np.zeros((1, nb_bins)) \n",
    "    \n",
    "    # We do this with mini-batches\n",
    "    for b in range(0, train_input.size(0), mini_batch_size):\n",
    "        t, output = model.forward(train_input.narrow(0, b, mini_batch_size))\n",
    "        loss = criterion(output, train_target.narrow(0, b, mini_batch_size))\n",
    "        sum_loss = sum_loss + loss.data[0]\n",
    "        model.zero_grad()\n",
    "        loss.backward()\n",
    "        for p in model.parameters():\n",
    "            p.data.sub_(eta * p.grad.data)\n",
    "        \n",
    "        #Divide output of hidden layer into bins for one epoch, hist has 20\n",
    "        hist_hidden += np.array([np.histogram(s, bins = nb_bins)[0] for s in t.data.numpy().T])\n",
    "        hist_output += np.array(np.histogram(output.data.numpy(), bins = nb_bins)[0])\n",
    "        \n",
    "    MI_hidden[e] = mutual_info(hist_hidden, nb_hidden)\n",
    "    MI_output[e] = mutual_info(hist_output, 1)\n",
    "    \n",
    "    print(e, sum_loss)"
   ]
  },
  {
   "cell_type": "code",
   "execution_count": 98,
   "metadata": {},
   "outputs": [
    {
     "name": "stdout",
     "output_type": "stream",
     "text": [
      "[2.83542935 2.89873213 2.92529648 2.94096339 2.9503379  2.9516065\n",
      " 2.9495547  2.94762479 2.94887964 2.94835214 2.94904986 2.94683945\n",
      " 2.94790986 2.9462578  2.944325   2.94211905 2.93936065 2.93819198\n",
      " 2.93817756 2.93714008 2.93548289 2.93376429 2.9331386  2.93278075\n",
      " 2.93172689 2.93100767 2.93145614 2.93130626 2.9310747  2.92951937\n",
      " 2.9287634  2.92785317 2.9259314  2.92604203 2.92595561 2.92543485\n",
      " 2.92491072 2.92485551 2.92446399 2.92461491 2.92488096 2.924474\n",
      " 2.92431046 2.92346839 2.92306123 2.92260824 2.92235279 2.92201512\n",
      " 2.92167797 2.92231442]\n"
     ]
    },
    {
     "data": {
      "image/png": "[encoded data removed]",
      "text/plain": [
       "<matplotlib.figure.Figure at 0x7f5b5e2dc128>"
      ]
     },
     "metadata": {},
     "output_type": "display_data"
    }
   ],
   "source": [
    "'Plot last epoch histograms for MI'\n",
    "\n",
    "plot_hist(hist_output, nb_bins, 1)\n",
    "print(MI_output)"
   ]
  },
  {
   "cell_type": "code",
   "execution_count": 99,
   "metadata": {},
   "outputs": [
    {
     "name": "stdout",
     "output_type": "stream",
     "text": [
      "MSE =  0.004403756931424141 2.570143461227417\n"
     ]
    }
   ],
   "source": [
    "'Computing loss on test data'\n",
    "\n",
    "test_input, test_target = Variable(x[int(input_size*0.7):, :]), Variable(y[int(input_size*0.7):])\n",
    "\n",
    "_, output = model.forward(test_input)\n",
    "\n",
    "mse = (torch.norm(output - test_target)).mean()\n",
    "loss = criterion(output, test_target)\n",
    "\n",
    "print(\"MSE = \", float(loss), float(mse))"
   ]
  },
  {
   "cell_type": "code",
   "execution_count": null,
   "metadata": {},
   "outputs": [],
   "source": [
    "'Other n-sphere_OLD'\n",
    "\n",
    "n = 4\n",
    "fig = plt.figure(1)\n",
    "ax = fig.add_subplot(111, projection='3d')\n",
    "\n",
    "for i in range(1000):\n",
    "    color = 'g'\n",
    "    alpha = np.pi * np.random.rand(n - 2)\n",
    "    alpha[-1] = 2* alpha[-1]\n",
    "\n",
    "    x = rand_n_sphere(1, alpha)\n",
    "        \n",
    "    if x[0] > 0 and x[1] < 0.5 and x[1] > -0.2 or x[2] < -0.4: \n",
    "        color = \"b\" \n",
    "    ax.scatter(x[0], x[1], x[2], c = (0.6,0,y))\n",
    "\n",
    "plt.show()"
   ]
  }
 ],
 "metadata": {
  "kernelspec": {
   "display_name": "Python 3",
   "language": "python",
   "name": "python3"
  },
  "language_info": {
   "codemirror_mode": {
    "name": "ipython",
    "version": 3
   },
   "file_extension": ".py",
   "mimetype": "text/x-python",
   "name": "python",
   "nbconvert_exporter": "python",
   "pygments_lexer": "ipython3",
   "version": "3.6.4"
  }
 },
 "nbformat": 4,
 "nbformat_minor": 2
}
